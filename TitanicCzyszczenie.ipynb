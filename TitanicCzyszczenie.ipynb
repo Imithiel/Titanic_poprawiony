{
 "cells": [
  {
   "cell_type": "markdown",
   "id": "c548e12c",
   "metadata": {},
   "source": [
    "- Embarked (skąd wypłyneli) są różne \"dodatkowe\" litery zamiast samego \"S\" jest \"So\"\n",
    "- Fare są ujemne kwoty i 4 liczby po przecinku a powinny byc dwie\n",
    "- Sex są niekompletne dane albo niepoprawne np PassangerID = 21\n",
    "- Age braki w danych, wiek nie może byc na minusie, wiek nie może wykraczać ponad 100lat, nie może być po przecinku nic poza \".5\"\n",
    "- ID błędnie ponumerowany ostatni wiersz\n",
    "- Name pojawia się to samo imie \"10 Sandstrom, Miss. Marguerite Ru&5$$  female 4 1 \" i \"13 Sandstrom, Miss. Marguerite Ru&5$$  female 4 1 \" oraz w innych również\n",
    "- Cabin brakujące wartości\n",
    "- Ilośc danych się nie zgadza w Age jest 719, w Cabin jest 207, a w Embarked jest 890, gdzie reszta posiada 892 wykryte używając komendy test.info()\n"
   ]
  },
  {
   "cell_type": "markdown",
   "id": "42801986",
   "metadata": {},
   "source": [
    "Zaimportowanie potrzebnych bibliotek"
   ]
  },
  {
   "cell_type": "code",
   "execution_count": 1,
   "id": "59234e4f",
   "metadata": {},
   "outputs": [],
   "source": [
    "import numpy as np #do roznych obliczen\n",
    "import pandas as pd #do operacji na danych\n",
    "import math\n",
    "\n",
    "import matplotlib.pyplot as plt #do wykresow\n",
    "import seaborn as sns #do jeszcze ladniejszych wykresow\n",
    "%matplotlib inline \n",
    "pd.set_option('display.max_columns', 500)"
   ]
  },
  {
   "cell_type": "markdown",
   "id": "2fbcad18",
   "metadata": {},
   "source": [
    "Wczytanie pliku i pozbycie sie duplikatów"
   ]
  },
  {
   "cell_type": "code",
   "execution_count": 2,
   "id": "392b53b7",
   "metadata": {},
   "outputs": [
    {
     "name": "stdout",
     "output_type": "stream",
     "text": [
      "./TitanicMess.tsv\n"
     ]
    }
   ],
   "source": [
    "r_filenameTSV = './TitanicMess.tsv'\n",
    "print(r_filenameTSV)\n",
    "\n",
    "# read the data\n",
    "tsv_read = pd.read_csv(r_filenameTSV, sep='\\t')\n",
    "#pozbycie się duplikatów\n",
    "db = tsv_read.drop_duplicates()"
   ]
  },
  {
   "cell_type": "markdown",
   "id": "c18df19c",
   "metadata": {},
   "source": [
    "- Usunięcię kolomny \"Cabin\", gdyż posiada za mało danych \n",
    "- Usunięcie kolumny \"PassengersId\" gdyż jest niepotrzebna\n",
    "- Usunięcie kolumny \"Ship\" gdyż jest niepotrzebna"
   ]
  },
  {
   "cell_type": "code",
   "execution_count": 6,
   "id": "fe33dca4",
   "metadata": {},
   "outputs": [
    {
     "name": "stderr",
     "output_type": "stream",
     "text": [
      "C:\\Users\\kiryu\\AppData\\Local\\Temp/ipykernel_2240/581163835.py:1: SettingWithCopyWarning: \n",
      "A value is trying to be set on a copy of a slice from a DataFrame.\n",
      "Try using .loc[row_indexer,col_indexer] = value instead\n",
      "\n",
      "See the caveats in the documentation: https://pandas.pydata.org/pandas-docs/stable/user_guide/indexing.html#returning-a-view-versus-a-copy\n",
      "  db['Age'] = db['Age'].astype(str).str.replace(',', '.')\n",
      "C:\\Users\\kiryu\\AppData\\Local\\Temp/ipykernel_2240/581163835.py:2: SettingWithCopyWarning: \n",
      "A value is trying to be set on a copy of a slice from a DataFrame.\n",
      "Try using .loc[row_indexer,col_indexer] = value instead\n",
      "\n",
      "See the caveats in the documentation: https://pandas.pydata.org/pandas-docs/stable/user_guide/indexing.html#returning-a-view-versus-a-copy\n",
      "  db['Age'] = db['Age'].fillna(0.0)\n",
      "C:\\Users\\kiryu\\AppData\\Local\\Temp/ipykernel_2240/581163835.py:4: SettingWithCopyWarning: \n",
      "A value is trying to be set on a copy of a slice from a DataFrame.\n",
      "Try using .loc[row_indexer,col_indexer] = value instead\n",
      "\n",
      "See the caveats in the documentation: https://pandas.pydata.org/pandas-docs/stable/user_guide/indexing.html#returning-a-view-versus-a-copy\n",
      "  db['Age'] = db['Age'].astype(float, errors = 'raise')\n",
      "C:\\Users\\kiryu\\AppData\\Local\\Temp/ipykernel_2240/581163835.py:5: SettingWithCopyWarning: \n",
      "A value is trying to be set on a copy of a slice from a DataFrame.\n",
      "Try using .loc[row_indexer,col_indexer] = value instead\n",
      "\n",
      "See the caveats in the documentation: https://pandas.pydata.org/pandas-docs/stable/user_guide/indexing.html#returning-a-view-versus-a-copy\n",
      "  db['Age'] = db['Age'].replace(np.nan, 0)\n"
     ]
    },
    {
     "ename": "KeyError",
     "evalue": "\"['Cabin' 'PassengerId'] not found in axis\"",
     "output_type": "error",
     "traceback": [
      "\u001b[1;31m---------------------------------------------------------------------------\u001b[0m",
      "\u001b[1;31mKeyError\u001b[0m                                  Traceback (most recent call last)",
      "\u001b[1;32m~\\AppData\\Local\\Temp/ipykernel_2240/581163835.py\u001b[0m in \u001b[0;36m<module>\u001b[1;34m\u001b[0m\n\u001b[0;32m      8\u001b[0m \u001b[1;31m#usunięcie kolumny Cabin z powodu na ogromną ilość brakujących danych oraz PassengerId ze względu na to że\u001b[0m\u001b[1;33m\u001b[0m\u001b[1;33m\u001b[0m\u001b[0m\n\u001b[0;32m      9\u001b[0m \u001b[1;31m#to tylko indeks i nie będzie brał udziału w analizie\u001b[0m\u001b[1;33m\u001b[0m\u001b[1;33m\u001b[0m\u001b[0m\n\u001b[1;32m---> 10\u001b[1;33m \u001b[0mdb\u001b[0m\u001b[1;33m.\u001b[0m\u001b[0mdrop\u001b[0m\u001b[1;33m(\u001b[0m\u001b[1;33m[\u001b[0m\u001b[1;34m\"Cabin\"\u001b[0m\u001b[1;33m,\u001b[0m\u001b[1;34m\"PassengerId\"\u001b[0m\u001b[1;33m]\u001b[0m\u001b[1;33m,\u001b[0m \u001b[0maxis\u001b[0m \u001b[1;33m=\u001b[0m \u001b[1;36m1\u001b[0m\u001b[1;33m,\u001b[0m \u001b[0minplace\u001b[0m \u001b[1;33m=\u001b[0m \u001b[1;32mTrue\u001b[0m\u001b[1;33m)\u001b[0m\u001b[1;33m\u001b[0m\u001b[1;33m\u001b[0m\u001b[0m\n\u001b[0m\u001b[0;32m     11\u001b[0m \u001b[1;31m#db = db.astype({'Age':float})\u001b[0m\u001b[1;33m\u001b[0m\u001b[1;33m\u001b[0m\u001b[0m\n\u001b[0;32m     12\u001b[0m \u001b[0mdb\u001b[0m\u001b[1;33m.\u001b[0m\u001b[0mround\u001b[0m\u001b[1;33m(\u001b[0m\u001b[1;33m{\u001b[0m\u001b[1;34m'Age'\u001b[0m\u001b[1;33m:\u001b[0m \u001b[1;36m2\u001b[0m\u001b[1;33m}\u001b[0m\u001b[1;33m)\u001b[0m\u001b[1;33m\u001b[0m\u001b[1;33m\u001b[0m\u001b[0m\n",
      "\u001b[1;32m~\\anaconda3\\lib\\site-packages\\pandas\\util\\_decorators.py\u001b[0m in \u001b[0;36mwrapper\u001b[1;34m(*args, **kwargs)\u001b[0m\n\u001b[0;32m    309\u001b[0m                     \u001b[0mstacklevel\u001b[0m\u001b[1;33m=\u001b[0m\u001b[0mstacklevel\u001b[0m\u001b[1;33m,\u001b[0m\u001b[1;33m\u001b[0m\u001b[1;33m\u001b[0m\u001b[0m\n\u001b[0;32m    310\u001b[0m                 )\n\u001b[1;32m--> 311\u001b[1;33m             \u001b[1;32mreturn\u001b[0m \u001b[0mfunc\u001b[0m\u001b[1;33m(\u001b[0m\u001b[1;33m*\u001b[0m\u001b[0margs\u001b[0m\u001b[1;33m,\u001b[0m \u001b[1;33m**\u001b[0m\u001b[0mkwargs\u001b[0m\u001b[1;33m)\u001b[0m\u001b[1;33m\u001b[0m\u001b[1;33m\u001b[0m\u001b[0m\n\u001b[0m\u001b[0;32m    312\u001b[0m \u001b[1;33m\u001b[0m\u001b[0m\n\u001b[0;32m    313\u001b[0m         \u001b[1;32mreturn\u001b[0m \u001b[0mwrapper\u001b[0m\u001b[1;33m\u001b[0m\u001b[1;33m\u001b[0m\u001b[0m\n",
      "\u001b[1;32m~\\anaconda3\\lib\\site-packages\\pandas\\core\\frame.py\u001b[0m in \u001b[0;36mdrop\u001b[1;34m(self, labels, axis, index, columns, level, inplace, errors)\u001b[0m\n\u001b[0;32m   4904\u001b[0m                 \u001b[0mweight\u001b[0m  \u001b[1;36m1.0\u001b[0m     \u001b[1;36m0.8\u001b[0m\u001b[1;33m\u001b[0m\u001b[1;33m\u001b[0m\u001b[0m\n\u001b[0;32m   4905\u001b[0m         \"\"\"\n\u001b[1;32m-> 4906\u001b[1;33m         return super().drop(\n\u001b[0m\u001b[0;32m   4907\u001b[0m             \u001b[0mlabels\u001b[0m\u001b[1;33m=\u001b[0m\u001b[0mlabels\u001b[0m\u001b[1;33m,\u001b[0m\u001b[1;33m\u001b[0m\u001b[1;33m\u001b[0m\u001b[0m\n\u001b[0;32m   4908\u001b[0m             \u001b[0maxis\u001b[0m\u001b[1;33m=\u001b[0m\u001b[0maxis\u001b[0m\u001b[1;33m,\u001b[0m\u001b[1;33m\u001b[0m\u001b[1;33m\u001b[0m\u001b[0m\n",
      "\u001b[1;32m~\\anaconda3\\lib\\site-packages\\pandas\\core\\generic.py\u001b[0m in \u001b[0;36mdrop\u001b[1;34m(self, labels, axis, index, columns, level, inplace, errors)\u001b[0m\n\u001b[0;32m   4148\u001b[0m         \u001b[1;32mfor\u001b[0m \u001b[0maxis\u001b[0m\u001b[1;33m,\u001b[0m \u001b[0mlabels\u001b[0m \u001b[1;32min\u001b[0m \u001b[0maxes\u001b[0m\u001b[1;33m.\u001b[0m\u001b[0mitems\u001b[0m\u001b[1;33m(\u001b[0m\u001b[1;33m)\u001b[0m\u001b[1;33m:\u001b[0m\u001b[1;33m\u001b[0m\u001b[1;33m\u001b[0m\u001b[0m\n\u001b[0;32m   4149\u001b[0m             \u001b[1;32mif\u001b[0m \u001b[0mlabels\u001b[0m \u001b[1;32mis\u001b[0m \u001b[1;32mnot\u001b[0m \u001b[1;32mNone\u001b[0m\u001b[1;33m:\u001b[0m\u001b[1;33m\u001b[0m\u001b[1;33m\u001b[0m\u001b[0m\n\u001b[1;32m-> 4150\u001b[1;33m                 \u001b[0mobj\u001b[0m \u001b[1;33m=\u001b[0m \u001b[0mobj\u001b[0m\u001b[1;33m.\u001b[0m\u001b[0m_drop_axis\u001b[0m\u001b[1;33m(\u001b[0m\u001b[0mlabels\u001b[0m\u001b[1;33m,\u001b[0m \u001b[0maxis\u001b[0m\u001b[1;33m,\u001b[0m \u001b[0mlevel\u001b[0m\u001b[1;33m=\u001b[0m\u001b[0mlevel\u001b[0m\u001b[1;33m,\u001b[0m \u001b[0merrors\u001b[0m\u001b[1;33m=\u001b[0m\u001b[0merrors\u001b[0m\u001b[1;33m)\u001b[0m\u001b[1;33m\u001b[0m\u001b[1;33m\u001b[0m\u001b[0m\n\u001b[0m\u001b[0;32m   4151\u001b[0m \u001b[1;33m\u001b[0m\u001b[0m\n\u001b[0;32m   4152\u001b[0m         \u001b[1;32mif\u001b[0m \u001b[0minplace\u001b[0m\u001b[1;33m:\u001b[0m\u001b[1;33m\u001b[0m\u001b[1;33m\u001b[0m\u001b[0m\n",
      "\u001b[1;32m~\\anaconda3\\lib\\site-packages\\pandas\\core\\generic.py\u001b[0m in \u001b[0;36m_drop_axis\u001b[1;34m(self, labels, axis, level, errors)\u001b[0m\n\u001b[0;32m   4183\u001b[0m                 \u001b[0mnew_axis\u001b[0m \u001b[1;33m=\u001b[0m \u001b[0maxis\u001b[0m\u001b[1;33m.\u001b[0m\u001b[0mdrop\u001b[0m\u001b[1;33m(\u001b[0m\u001b[0mlabels\u001b[0m\u001b[1;33m,\u001b[0m \u001b[0mlevel\u001b[0m\u001b[1;33m=\u001b[0m\u001b[0mlevel\u001b[0m\u001b[1;33m,\u001b[0m \u001b[0merrors\u001b[0m\u001b[1;33m=\u001b[0m\u001b[0merrors\u001b[0m\u001b[1;33m)\u001b[0m\u001b[1;33m\u001b[0m\u001b[1;33m\u001b[0m\u001b[0m\n\u001b[0;32m   4184\u001b[0m             \u001b[1;32melse\u001b[0m\u001b[1;33m:\u001b[0m\u001b[1;33m\u001b[0m\u001b[1;33m\u001b[0m\u001b[0m\n\u001b[1;32m-> 4185\u001b[1;33m                 \u001b[0mnew_axis\u001b[0m \u001b[1;33m=\u001b[0m \u001b[0maxis\u001b[0m\u001b[1;33m.\u001b[0m\u001b[0mdrop\u001b[0m\u001b[1;33m(\u001b[0m\u001b[0mlabels\u001b[0m\u001b[1;33m,\u001b[0m \u001b[0merrors\u001b[0m\u001b[1;33m=\u001b[0m\u001b[0merrors\u001b[0m\u001b[1;33m)\u001b[0m\u001b[1;33m\u001b[0m\u001b[1;33m\u001b[0m\u001b[0m\n\u001b[0m\u001b[0;32m   4186\u001b[0m             \u001b[0mresult\u001b[0m \u001b[1;33m=\u001b[0m \u001b[0mself\u001b[0m\u001b[1;33m.\u001b[0m\u001b[0mreindex\u001b[0m\u001b[1;33m(\u001b[0m\u001b[1;33m**\u001b[0m\u001b[1;33m{\u001b[0m\u001b[0maxis_name\u001b[0m\u001b[1;33m:\u001b[0m \u001b[0mnew_axis\u001b[0m\u001b[1;33m}\u001b[0m\u001b[1;33m)\u001b[0m\u001b[1;33m\u001b[0m\u001b[1;33m\u001b[0m\u001b[0m\n\u001b[0;32m   4187\u001b[0m \u001b[1;33m\u001b[0m\u001b[0m\n",
      "\u001b[1;32m~\\anaconda3\\lib\\site-packages\\pandas\\core\\indexes\\base.py\u001b[0m in \u001b[0;36mdrop\u001b[1;34m(self, labels, errors)\u001b[0m\n\u001b[0;32m   6015\u001b[0m         \u001b[1;32mif\u001b[0m \u001b[0mmask\u001b[0m\u001b[1;33m.\u001b[0m\u001b[0many\u001b[0m\u001b[1;33m(\u001b[0m\u001b[1;33m)\u001b[0m\u001b[1;33m:\u001b[0m\u001b[1;33m\u001b[0m\u001b[1;33m\u001b[0m\u001b[0m\n\u001b[0;32m   6016\u001b[0m             \u001b[1;32mif\u001b[0m \u001b[0merrors\u001b[0m \u001b[1;33m!=\u001b[0m \u001b[1;34m\"ignore\"\u001b[0m\u001b[1;33m:\u001b[0m\u001b[1;33m\u001b[0m\u001b[1;33m\u001b[0m\u001b[0m\n\u001b[1;32m-> 6017\u001b[1;33m                 \u001b[1;32mraise\u001b[0m \u001b[0mKeyError\u001b[0m\u001b[1;33m(\u001b[0m\u001b[1;34mf\"{labels[mask]} not found in axis\"\u001b[0m\u001b[1;33m)\u001b[0m\u001b[1;33m\u001b[0m\u001b[1;33m\u001b[0m\u001b[0m\n\u001b[0m\u001b[0;32m   6018\u001b[0m             \u001b[0mindexer\u001b[0m \u001b[1;33m=\u001b[0m \u001b[0mindexer\u001b[0m\u001b[1;33m[\u001b[0m\u001b[1;33m~\u001b[0m\u001b[0mmask\u001b[0m\u001b[1;33m]\u001b[0m\u001b[1;33m\u001b[0m\u001b[1;33m\u001b[0m\u001b[0m\n\u001b[0;32m   6019\u001b[0m         \u001b[1;32mreturn\u001b[0m \u001b[0mself\u001b[0m\u001b[1;33m.\u001b[0m\u001b[0mdelete\u001b[0m\u001b[1;33m(\u001b[0m\u001b[0mindexer\u001b[0m\u001b[1;33m)\u001b[0m\u001b[1;33m\u001b[0m\u001b[1;33m\u001b[0m\u001b[0m\n",
      "\u001b[1;31mKeyError\u001b[0m: \"['Cabin' 'PassengerId'] not found in axis\""
     ]
    }
   ],
   "source": [
    "db['Age'] = db['Age'].astype(str).str.replace(',', '.')\n",
    "db['Age'] = db['Age'].fillna(0.0)\n",
    "\n",
    "db['Age'] = db['Age'].astype(float, errors = 'raise')\n",
    "db['Age'] = db['Age'].replace(np.nan, 0)\n",
    "#db['Age'] = [x.replace(',', '.') for x in db['Age']]\n",
    "#db.apply(lambda x: x.str.replace(',','.'))\n",
    "#usunięcie kolumny Cabin z powodu na ogromną ilość brakujących danych oraz PassengerId ze względu na to że \n",
    "#to tylko indeks i nie będzie brał udziału w analizie \n",
    "db.drop([\"Cabin\",\"PassengerId\"], axis = 1, inplace = True)\n",
    "#db = db.astype({'Age':float})\n",
    "db.round({'Age': 2})"
   ]
  },
  {
   "cell_type": "markdown",
   "id": "1d3fd1cb",
   "metadata": {},
   "source": [
    "Ujednolicenie kolumny \"Embarked\""
   ]
  },
  {
   "cell_type": "code",
   "execution_count": 7,
   "id": "a242d2f1",
   "metadata": {},
   "outputs": [
    {
     "name": "stderr",
     "output_type": "stream",
     "text": [
      "C:\\Users\\kiryu\\anaconda3\\lib\\site-packages\\pandas\\core\\generic.py:6619: SettingWithCopyWarning: \n",
      "A value is trying to be set on a copy of a slice from a DataFrame\n",
      "\n",
      "See the caveats in the documentation: https://pandas.pydata.org/pandas-docs/stable/user_guide/indexing.html#returning-a-view-versus-a-copy\n",
      "  return self._update_inplace(result)\n",
      "C:\\Users\\kiryu\\AppData\\Local\\Temp/ipykernel_2240/1462160807.py:7: SettingWithCopyWarning: \n",
      "A value is trying to be set on a copy of a slice from a DataFrame.\n",
      "Try using .loc[row_indexer,col_indexer] = value instead\n",
      "\n",
      "See the caveats in the documentation: https://pandas.pydata.org/pandas-docs/stable/user_guide/indexing.html#returning-a-view-versus-a-copy\n",
      "  db['Embarked'] = db['Embarked'].fillna(0)\n"
     ]
    }
   ],
   "source": [
    "def replace_embarked_names_with_code(db):\n",
    "    db.Embarked.replace(['So', 'Co', 'Qe'], ['S', 'C', 'Q'], inplace = True)\n",
    "    return (db)\n",
    "\n",
    "for i in [db]:\n",
    "    replace_embarked_names_with_code(i)\n",
    "db['Embarked'] = db['Embarked'].fillna(0)\n",
    "\n",
    "#Największe prawdopodobieństwo posiadania klasy w pozycjach w których znaleziono braki to S, \n",
    "#dlatego braki zostały zastąpione tą klasą\n",
    "def replace_embarked_names_code(db):\n",
    "    db.Embarked.replace([0], ['S'], inplace = True)\n",
    "    return (db)\n",
    "\n",
    "for i in [db]:\n",
    "    replace_embarked_names_code(i)"
   ]
  },
  {
   "cell_type": "markdown",
   "id": "b28c0346",
   "metadata": {},
   "source": [
    "Ujednolicenie kolumny \"Sex\" na tylko 2 płcie: \"male\" i \"female\""
   ]
  },
  {
   "cell_type": "code",
   "execution_count": 8,
   "id": "844d115a",
   "metadata": {},
   "outputs": [],
   "source": [
    "#Zastapienie nazw plci \n",
    "def replace_sex_names_with_code(db):\n",
    "    db.Sex.replace(['malef', 'fem', 'mal', 'femmale'], ['male', 'female', 'male', 'female'], inplace = True)\n",
    "    return (db)\n",
    "\n",
    "for i in [db]:\n",
    "    replace_sex_names_with_code(i)"
   ]
  },
  {
   "cell_type": "markdown",
   "id": "dc24487a",
   "metadata": {},
   "source": [
    "Naprawienie kolumny \"Age\" usunięcie minusowego wieku oraz wieku powyżej 80lat, oraz usunięcie miejsc po przecinków różnych od 0.5"
   ]
  },
  {
   "cell_type": "code",
   "execution_count": 9,
   "id": "2999763b",
   "metadata": {},
   "outputs": [
    {
     "name": "stdout",
     "output_type": "stream",
     "text": [
      "<0.5\n",
      "New resulting array:  0      22.0\n",
      "1      38.0\n",
      "2      26.0\n",
      "3      35.0\n",
      "4      35.0\n",
      "       ... \n",
      "887    19.0\n",
      "888     0.0\n",
      "889    26.0\n",
      "890    32.0\n",
      "891    38.0\n",
      "Name: Age, Length: 889, dtype: float64\n",
      ">80.0\n",
      "New resulting array:  0      22.0\n",
      "1      38.0\n",
      "2      26.0\n",
      "3      35.0\n",
      "4      35.0\n",
      "       ... \n",
      "887    19.0\n",
      "888     0.0\n",
      "889    26.0\n",
      "890    32.0\n",
      "891    38.0\n",
      "Name: Age, Length: 889, dtype: float64\n",
      "Średni wiek: 23.75\n",
      "0      22.00\n",
      "1      38.00\n",
      "2      26.00\n",
      "3      35.00\n",
      "4      35.00\n",
      "       ...  \n",
      "887    19.00\n",
      "888    23.75\n",
      "889    26.00\n",
      "890    32.00\n",
      "891    38.00\n",
      "Name: Age, Length: 889, dtype: float64\n",
      "Max Age\n",
      "80.0\n",
      "Min Age\n",
      "0.5\n"
     ]
    },
    {
     "name": "stderr",
     "output_type": "stream",
     "text": [
      "C:\\Users\\kiryu\\AppData\\Local\\Temp/ipykernel_2240/466133924.py:4: SettingWithCopyWarning: \n",
      "A value is trying to be set on a copy of a slice from a DataFrame\n",
      "\n",
      "See the caveats in the documentation: https://pandas.pydata.org/pandas-docs/stable/user_guide/indexing.html#returning-a-view-versus-a-copy\n",
      "  db1[db1<0.5] = 0.0\n",
      "C:\\Users\\kiryu\\anaconda3\\lib\\site-packages\\pandas\\core\\generic.py:8870: SettingWithCopyWarning: \n",
      "A value is trying to be set on a copy of a slice from a DataFrame\n",
      "\n",
      "See the caveats in the documentation: https://pandas.pydata.org/pandas-docs/stable/user_guide/indexing.html#returning-a-view-versus-a-copy\n",
      "  return self._update_inplace(result)\n",
      "C:\\Users\\kiryu\\AppData\\Local\\Temp/ipykernel_2240/466133924.py:11: SettingWithCopyWarning: \n",
      "A value is trying to be set on a copy of a slice from a DataFrame\n",
      "\n",
      "See the caveats in the documentation: https://pandas.pydata.org/pandas-docs/stable/user_guide/indexing.html#returning-a-view-versus-a-copy\n",
      "  db2[db2>80.0] = 0.0\n",
      "C:\\Users\\kiryu\\AppData\\Local\\Temp/ipykernel_2240/466133924.py:38: SettingWithCopyWarning: \n",
      "A value is trying to be set on a copy of a slice from a DataFrame.\n",
      "Try using .loc[row_indexer,col_indexer] = value instead\n",
      "\n",
      "See the caveats in the documentation: https://pandas.pydata.org/pandas-docs/stable/user_guide/indexing.html#returning-a-view-versus-a-copy\n",
      "  db['Age'] = db['Age'].astype(str).replace('0.0', dwamiejsca)\n",
      "C:\\Users\\kiryu\\AppData\\Local\\Temp/ipykernel_2240/466133924.py:39: SettingWithCopyWarning: \n",
      "A value is trying to be set on a copy of a slice from a DataFrame.\n",
      "Try using .loc[row_indexer,col_indexer] = value instead\n",
      "\n",
      "See the caveats in the documentation: https://pandas.pydata.org/pandas-docs/stable/user_guide/indexing.html#returning-a-view-versus-a-copy\n",
      "  db['Age'] = db['Age'].astype(float, errors = 'raise')\n",
      "C:\\Users\\kiryu\\AppData\\Local\\Temp/ipykernel_2240/466133924.py:52: SettingWithCopyWarning: \n",
      "A value is trying to be set on a copy of a slice from a DataFrame.\n",
      "Try using .loc[row_indexer,col_indexer] = value instead\n",
      "\n",
      "See the caveats in the documentation: https://pandas.pydata.org/pandas-docs/stable/user_guide/indexing.html#returning-a-view-versus-a-copy\n",
      "  db['Age']=intValueOfAge\n"
     ]
    }
   ],
   "source": [
    "print(\"<0.5\")\n",
    "db1 = db[\"Age\"]\n",
    "# code to replace all negative value with 0\n",
    "db1[db1<0.5] = 0.0\n",
    "# printing result\n",
    "print(\"New resulting array: \", db1)\n",
    "\n",
    "print(\">80.0\")\n",
    "db2 = db[\"Age\"]\n",
    "# code to replace all negative value with 0\n",
    "db2[db2>80.0] = 0.0\n",
    "# printing result\n",
    "print(\"New resulting array: \", db2)\n",
    "\n",
    "\n",
    "df = pd.DataFrame(db)\n",
    "measurer = np.vectorize(len)\n",
    "pd.to_numeric(db['Age'],errors='coerce').isnull()\n",
    "#df['Age'] = df['Age'].fillna(0)\n",
    "db['Age'].sum()\n",
    "suma = db['Age'].sum()\n",
    "res2 = len(db.index)\n",
    "sredniWiek = suma/res2\n",
    "dwamiejsca = round(sredniWiek,2)\n",
    "\n",
    "#wypisanie średniego wieku\n",
    "print(\"Średni wiek:\", dwamiejsca ) \n",
    "\n",
    "def replace_age(db):\n",
    "    db.Age.replace(['0.0'], [dwamiejsca], inplace = True)\n",
    "    return (db)\n",
    "\n",
    "for i in [db]:\n",
    "    replace_age(i)\n",
    "\n",
    "#\n",
    "\n",
    "db['Age'] = db['Age'].astype(str).replace('0.0', dwamiejsca)\n",
    "db['Age'] = db['Age'].astype(float, errors = 'raise')\n",
    "\n",
    "#Modulo Age\n",
    "def changeValueOfAge(db):\n",
    "\n",
    "    valueOfAge = db['Age'].astype(float)\n",
    "\n",
    "    print(db['Age'])\n",
    "    x = valueOfAge%0.5\n",
    "\n",
    "    if (x!=0.0).any():\n",
    "        intValueOfAge = x\n",
    "        intValueOfAge = valueOfAge - intValueOfAge\n",
    "        db['Age']=intValueOfAge\n",
    "    elif ():\n",
    "        print(\"git\")\n",
    "    else:\n",
    "        print(\"git\")\n",
    "    return (db)\n",
    "\n",
    "for i in [db]:\n",
    "    changeValueOfAge(i)\n",
    "print (\"Max Age\")\n",
    "print(db['Age'].max())\n",
    "print (\"Min Age\")\n",
    "print(db['Age'].min())"
   ]
  },
  {
   "cell_type": "markdown",
   "id": "406f43ec",
   "metadata": {},
   "source": [
    "FARE - naprawa kolumny \"Fare\", usunięcie minusowych wartości"
   ]
  },
  {
   "cell_type": "code",
   "execution_count": 10,
   "id": "71dfbdb1",
   "metadata": {},
   "outputs": [
    {
     "name": "stdout",
     "output_type": "stream",
     "text": [
      "<0.5\n",
      "New resulting array:  0       7.2500\n",
      "1      71.2833\n",
      "2       7.9250\n",
      "3      53.1000\n",
      "4       8.0500\n",
      "        ...   \n",
      "887    30.0000\n",
      "888    23.4500\n",
      "889    30.0000\n",
      "890     7.7500\n",
      "891    90.0000\n",
      "Name: Fare, Length: 889, dtype: float64\n",
      "Średni Fare: 32.14\n",
      "Max Fare\n",
      "512.3292\n",
      "Min Fare\n",
      "0.0\n"
     ]
    },
    {
     "name": "stderr",
     "output_type": "stream",
     "text": [
      "C:\\Users\\kiryu\\AppData\\Local\\Temp/ipykernel_2240/428002186.py:1: SettingWithCopyWarning: \n",
      "A value is trying to be set on a copy of a slice from a DataFrame.\n",
      "Try using .loc[row_indexer,col_indexer] = value instead\n",
      "\n",
      "See the caveats in the documentation: https://pandas.pydata.org/pandas-docs/stable/user_guide/indexing.html#returning-a-view-versus-a-copy\n",
      "  db['Fare'] = db['Fare'].astype(str).str.replace(',', '.')\n",
      "C:\\Users\\kiryu\\AppData\\Local\\Temp/ipykernel_2240/428002186.py:4: SettingWithCopyWarning: \n",
      "A value is trying to be set on a copy of a slice from a DataFrame\n",
      "\n",
      "See the caveats in the documentation: https://pandas.pydata.org/pandas-docs/stable/user_guide/indexing.html#returning-a-view-versus-a-copy\n",
      "  db2[db2==\"15.9a\"] = 15.9\n",
      "C:\\Users\\kiryu\\AppData\\Local\\Temp/ipykernel_2240/428002186.py:6: SettingWithCopyWarning: \n",
      "A value is trying to be set on a copy of a slice from a DataFrame.\n",
      "Try using .loc[row_indexer,col_indexer] = value instead\n",
      "\n",
      "See the caveats in the documentation: https://pandas.pydata.org/pandas-docs/stable/user_guide/indexing.html#returning-a-view-versus-a-copy\n",
      "  db['Fare'] = db['Fare'].astype(float, errors = 'raise')\n",
      "C:\\Users\\kiryu\\AppData\\Local\\Temp/ipykernel_2240/428002186.py:11: SettingWithCopyWarning: \n",
      "A value is trying to be set on a copy of a slice from a DataFrame\n",
      "\n",
      "See the caveats in the documentation: https://pandas.pydata.org/pandas-docs/stable/user_guide/indexing.html#returning-a-view-versus-a-copy\n",
      "  db1[db1<0.5] = 0.0\n"
     ]
    }
   ],
   "source": [
    "db['Fare'] = db['Fare'].astype(str).str.replace(',', '.')\n",
    "\n",
    "db2 = db[\"Fare\"]\n",
    "db2[db2==\"15.9a\"] = 15.9\n",
    "\n",
    "db['Fare'] = db['Fare'].astype(float, errors = 'raise')\n",
    "\n",
    "print(\"<0.5\")\n",
    "db1 = db[\"Fare\"]\n",
    "# code to replace all negative value with 0\n",
    "db1[db1<0.5] = 0.0\n",
    "# printing result\n",
    "print(\"New resulting array: \", db1)\n",
    "\n",
    "df = pd.DataFrame(db)\n",
    "measurer = np.vectorize(len)\n",
    "pd.to_numeric(db['Fare'],errors='coerce').isnull()\n",
    "#df['Age'] = df['Age'].fillna(0)\n",
    "db['Fare'].sum()\n",
    "suma = db['Fare'].sum()\n",
    "res2 = len(db.index)\n",
    "sredniF = suma/res2\n",
    "dwamiejsca = round(sredniF,2)\n",
    "\n",
    "#wypisanie średniego Fare\n",
    "print(\"Średni Fare:\", dwamiejsca ) \n",
    "\n",
    "print (\"Max Fare\")    \n",
    "print(db['Fare'].max())\n",
    "print (\"Min Fare\") \n",
    "print(db['Fare'].min())    "
   ]
  },
  {
   "cell_type": "markdown",
   "id": "00bb6103",
   "metadata": {},
   "source": [
    "- PCLASS - wszystkie dane poprawne\n",
    "- NAME - wszystkie dane poprawne\n",
    "- PARCH - wszystkie dane sa poprawne\n",
    "- SibSp - wszystkie dane są poprawne\n",
    "- TICKET - wszystkie dane są poprawne\n",
    "- SURVIVED - wszystkie dane są poprawne\n",
    "- SHIP - wszystkie dane są poprawne"
   ]
  },
  {
   "cell_type": "markdown",
   "id": "3669daae",
   "metadata": {},
   "source": [
    "Wyświetlenie nowo powstałych danych oraz zapis do pliku \"TitanicCleand\""
   ]
  },
  {
   "cell_type": "code",
   "execution_count": null,
   "id": "98cbf19c",
   "metadata": {},
   "outputs": [],
   "source": [
    "#db.info()\n",
    "db.head(60)\n",
    "#db.sample(60)\n",
    "#db.tail(60)\n",
    "#db.shape\n",
    "\n",
    "db.to_csv('TitanicCleaned.tsv', sep=\"\\t\")"
   ]
  }
 ],
 "metadata": {
  "kernelspec": {
   "display_name": "Python 3 (ipykernel)",
   "language": "python",
   "name": "python3"
  },
  "language_info": {
   "codemirror_mode": {
    "name": "ipython",
    "version": 3
   },
   "file_extension": ".py",
   "mimetype": "text/x-python",
   "name": "python",
   "nbconvert_exporter": "python",
   "pygments_lexer": "ipython3",
   "version": "3.9.7"
  }
 },
 "nbformat": 4,
 "nbformat_minor": 5
}
